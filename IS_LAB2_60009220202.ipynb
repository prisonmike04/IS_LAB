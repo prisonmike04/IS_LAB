{
  "cells": [
    {
      "cell_type": "markdown",
      "metadata": {
        "id": "DglFhK9T77MB"
      },
      "source": [
        "# AYUSHI SINGH\n",
        "\n",
        "# 60009220202\n",
        "\n",
        "# D025\n",
        "\n",
        "# IS LAB 2"
      ]
    },
    {
      "cell_type": "markdown",
      "metadata": {
        "id": "cFIABqFy0i4h"
      },
      "source": [
        "# 8 puzzle\n",
        "\n",
        "8-Puzzle Overview\n",
        "\n",
        "The 8-Puzzle is a classic problem in artificial intelligence and computer science, involving a 3x3 grid containing 8 numbered tiles and one blank space. The goal is to move the tiles to reach a specific end configuration (typically ordered numerically with the blank space in the bottom-right corner). This problem is an example of a sliding puzzle and is often used to illustrate state-space search algorithms.\n",
        "\n",
        "Problem Details:\n",
        "\n",
        "Initial State: A given arrangement of the tiles.\n",
        "\n",
        "Goal State: A specific target arrangement (e.g., (1, 2, 3, 4, 5, 6, 7, 8, 0)).\n",
        "\n",
        "Moves: The blank space can move up, down, left, or right, swapping positions with an adjacent tile.\n"
      ]
    },
    {
      "cell_type": "code",
      "execution_count": 4,
      "metadata": {
        "id": "GN4j1maTz_jx"
      },
      "outputs": [],
      "source": [
        "def goalTest(state, goal):\n",
        "  return state == goal"
      ]
    },
    {
      "cell_type": "markdown",
      "metadata": {
        "id": "PK7kMhUS0ooJ"
      },
      "source": [
        "# Move gen"
      ]
    },
    {
      "cell_type": "markdown",
      "metadata": {
        "id": "X7rJuEds1Smp"
      },
      "source": [
        "using the zero_index to find the blank space"
      ]
    },
    {
      "cell_type": "markdown",
      "metadata": {
        "id": "yrifZ-7u1ZKB"
      },
      "source": [
        "Possible moves: up, down, left, right\n",
        "\n",
        "zero_index > 2: # Can move up\n",
        "\n",
        "zero_index < 6: # Can move down as the blank tile is not in last row\n",
        "\n",
        "zero_index % 3 > 0: # Can move left\n",
        "\n",
        "zero_index % 3 < 2: # Can move right"
      ]
    },
    {
      "cell_type": "code",
      "execution_count": 5,
      "metadata": {
        "id": "tQcBgew-zjUh"
      },
      "outputs": [],
      "source": [
        "def generate_moves(puzzle_state):\n",
        "    possible_moves = []\n",
        "    empty_tile_index = puzzle_state.index(0)\n",
        "\n",
        "    def swap_positions(puzzle_state, i, j):\n",
        "        state_list = list(puzzle_state)\n",
        "        state_list[i], state_list[j] = state_list[j], state_list[i]\n",
        "        return tuple(state_list)\n",
        "\n",
        "    if empty_tile_index > 2:\n",
        "        possible_moves.append(swap_positions(puzzle_state, empty_tile_index, empty_tile_index - 3))\n",
        "    if empty_tile_index < 6:\n",
        "        possible_moves.append(swap_positions(puzzle_state, empty_tile_index, empty_tile_index + 3))\n",
        "    if empty_tile_index % 3 > 0:\n",
        "        possible_moves.append(swap_positions(puzzle_state, empty_tile_index, empty_tile_index - 1))\n",
        "    if empty_tile_index % 3 < 2:\n",
        "        possible_moves.append(swap_positions(puzzle_state, empty_tile_index, empty_tile_index + 1))\n",
        "\n",
        "    return possible_moves\n"
      ]
    },
    {
      "cell_type": "code",
      "execution_count": 6,
      "metadata": {
        "id": "fvAo9gaY_e_Z",
        "colab": {
          "base_uri": "https://localhost:8080/"
        },
        "outputId": "21a3decb-a9c8-4315-9863-f4d1544be092"
      },
      "outputs": [
        {
          "output_type": "stream",
          "name": "stdout",
          "text": [
            "Enter the puzzle state (9 numbers including 0 for the blank space, separated by spaces):\n",
            "1 2 3 4 5 6 7 8 0\n",
            "Puzzle State:\n",
            "1 2 3\n",
            "4 5 6\n",
            "7 8 0\n",
            "\n",
            "Possible Moves:\n",
            "1 2 3\n",
            "4 5 0\n",
            "7 8 6\n",
            "\n",
            "1 2 3\n",
            "4 5 6\n",
            "7 0 8\n",
            "\n",
            "The initial state is already the goal state!\n"
          ]
        }
      ],
      "source": [
        "def print_puzzle(puzzle_state):\n",
        "    for i in range(0, 9, 3):\n",
        "        print(f\"{puzzle_state[i]} {puzzle_state[i+1]} {puzzle_state[i+2]}\")\n",
        "    print()\n",
        "\n",
        "print(\"Enter the puzzle state (9 numbers including 0 for the blank space, separated by spaces):\")\n",
        "user_input = input().split()\n",
        "puzzle_state = tuple(map(int, user_input))\n",
        "\n",
        "\n",
        "print(\"Puzzle State:\")\n",
        "print_puzzle(puzzle_state)\n",
        "\n",
        "\n",
        "possible_moves = generate_moves(puzzle_state)\n",
        "print(\"Possible Moves:\")\n",
        "for move in possible_moves:\n",
        "    print_puzzle(move)\n",
        "\n",
        "\n",
        "goal_puzzle_state = (1, 2, 3, 4, 5, 6, 7, 8, 0)\n",
        "\n",
        "if goalTest(puzzle_state, goal_puzzle_state):\n",
        "    print(\"The initial state is already the goal state!\")\n",
        "else:\n",
        "    print(\"The initial state is not the goal state.\")\n"
      ]
    },
    {
      "cell_type": "code",
      "execution_count": 8,
      "metadata": {
        "id": "7wxGeAUC2EE6",
        "colab": {
          "base_uri": "https://localhost:8080/"
        },
        "outputId": "db8967a6-458f-4482-a301-f2dad830026d"
      },
      "outputs": [
        {
          "output_type": "stream",
          "name": "stdout",
          "text": [
            "Enter the initial state of the 8-puzzle (e.g., 1 2 3 4 0 5 6 7 8): 1 2 3 4 5 0 7 8 9 \n",
            "Possible moves from the given state:\n",
            "(1, 2, 0, 4, 5, 3, 7, 8, 9)\n",
            "(1, 2, 3, 4, 5, 9, 7, 8, 0)\n",
            "(1, 2, 3, 4, 0, 5, 7, 8, 9)\n",
            "The initial state is not the goal state.\n"
          ]
        }
      ],
      "source": [
        "user_input = input(\"Enter the initial state of the 8-puzzle (e.g., 1 2 3 4 0 5 6 7 8): \")\n",
        "initial_puzzle_state = tuple(map(int, user_input.split()))\n",
        "\n",
        "goal_puzzle_state = (1, 2, 3, 4, 5, 6, 7, 8, 0)\n",
        "\n",
        "print(\"Possible moves from the given state:\")\n",
        "for move in generate_moves(initial_puzzle_state):\n",
        "    print(move)\n",
        "\n",
        "def goal_test(current_state, goal_state):\n",
        "    return current_state == goal_state\n",
        "\n",
        "if goal_test(initial_puzzle_state, goal_puzzle_state):\n",
        "    print(\"The initial state is already the goal state!\")\n",
        "else:\n",
        "    print(\"The initial state is not the goal state.\")\n"
      ]
    },
    {
      "cell_type": "markdown",
      "metadata": {
        "id": "BOWHb48Y4qwx"
      },
      "source": [
        "# Occurs In\n"
      ]
    },
    {
      "cell_type": "code",
      "execution_count": 9,
      "metadata": {
        "id": "L_H4fxIX0Li7"
      },
      "outputs": [],
      "source": [
        "\n",
        "\n",
        "def occurs_in(item, node):\n",
        "  if node is None:\n",
        "    return False\n",
        "  return item == node.state or occurs_in(item, node.parent)\n"
      ]
    },
    {
      "cell_type": "code",
      "execution_count": 10,
      "metadata": {
        "id": "NbqXxIg25285",
        "colab": {
          "base_uri": "https://localhost:8080/"
        },
        "outputId": "bed650d2-ecf4-45ff-ef2b-4f94168427b1"
      },
      "outputs": [
        {
          "output_type": "stream",
          "name": "stdout",
          "text": [
            "Enter the state to check (e.g., 1 2 3 4 0 5 6 7 8): 1 2 3 4  0 6 7 8 9\n",
            "The state does not occur in the tree.\n"
          ]
        }
      ],
      "source": [
        "class Node:\n",
        "    def __init__(self, state, parent=None):\n",
        "        self.state = state\n",
        "        self.parent = parent\n",
        "\n",
        "node3 = Node(state=(1, 2, 3, 4, 5, 6, 7, 8, 0))\n",
        "node2 = Node(state=(1, 2, 3, 4, 0, 6, 7, 8, 5), parent=node3)\n",
        "node1 = Node(state=(1, 2, 3, 0, 4, 6, 7, 8, 5), parent=node2)\n",
        "\n",
        "user_input = input(\"Enter the state to check (e.g., 1 2 3 4 0 5 6 7 8): \")\n",
        "test_state = tuple(map(int, user_input.split()))\n",
        "\n",
        "\n",
        "\n",
        "\n",
        "\n",
        "if occurs_in(test_state, node1):\n",
        "    print(\"The state occurs in the tree.\")\n",
        "else:\n",
        "    print(\"The state does not occur in the tree.\")\n"
      ]
    },
    {
      "cell_type": "code",
      "execution_count": 11,
      "metadata": {
        "id": "43-O9W-a3zGa",
        "colab": {
          "base_uri": "https://localhost:8080/"
        },
        "outputId": "956c61ae-9c90-4d97-f5b4-204e86f261d7"
      },
      "outputs": [
        {
          "output_type": "stream",
          "name": "stdout",
          "text": [
            "True\n",
            "True\n",
            "False\n"
          ]
        }
      ],
      "source": [
        "\n",
        "\n",
        "class Node:\n",
        "  def __init__(self, state, parent):\n",
        "    self.state = state\n",
        "    self.parent = parent\n",
        "\n",
        "def occurs_in(item, node):\n",
        "  if node is None:\n",
        "    return False\n",
        "  return item == node.state or occurs_in(item, node.parent)\n",
        "\n",
        "\n",
        "root = Node((1, 2, 3, 4, 5, 6, 7, 8, 0), None)\n",
        "child1 = Node((1, 2, 3, 4, 0, 5, 6, 7, 8), root)\n",
        "child2 = Node((1, 2, 3, 0, 4, 5, 6, 7, 8), child1)\n",
        "\n",
        "print(occurs_in((1, 2, 3, 4, 5, 6, 7, 8, 0), child2))\n",
        "print(occurs_in((1, 2, 3, 4, 0, 5, 6, 7, 8), child2))\n",
        "print(occurs_in((0, 1, 2, 3, 4, 5, 6, 7, 8), child2))\n"
      ]
    },
    {
      "cell_type": "markdown",
      "metadata": {
        "id": "E7Riz_ZHP9gV"
      },
      "source": [
        "# RemoveSeen(item, item_list):\n",
        "Removes all occurrences of an item from a list. Useful for updating lists of states."
      ]
    },
    {
      "cell_type": "code",
      "execution_count": 12,
      "metadata": {
        "id": "aT-S4Z6IPVtf"
      },
      "outputs": [],
      "source": [
        "\n",
        "\n",
        "def removeSeen(item, item_list):\n",
        "\n",
        "  result = [x for x in item_list if x != item]\n",
        "  return result\n"
      ]
    },
    {
      "cell_type": "code",
      "execution_count": 13,
      "metadata": {
        "id": "Ls3lNTSW4ZZi",
        "colab": {
          "base_uri": "https://localhost:8080/"
        },
        "outputId": "8b6fa94c-e31f-4b8b-c9a3-58c381d7ceb8"
      },
      "outputs": [
        {
          "output_type": "stream",
          "name": "stdout",
          "text": [
            "Enter the list of numbers separated by spaces (e.g., 1 2 3 4 2 5 2 6): 1 2 3 4 2 6 0 2 8 \n",
            "Enter the item you want to remove: 2\n",
            "Original List:\n",
            "[1, 2, 3, 4, 2, 6, 0, 2, 8]\n",
            "\n",
            "Removing all occurrences of 2...\n",
            "Updated List:\n",
            "[1, 3, 4, 6, 0, 8]\n"
          ]
        }
      ],
      "source": [
        "user_input = input(\"Enter the list of numbers separated by spaces (e.g., 1 2 3 4 2 5 2 6): \")\n",
        "test_list = list(map(int, user_input.split()))\n",
        "\n",
        "item_to_remove = int(input(\"Enter the item you want to remove: \"))\n",
        "\n",
        "print(\"Original List:\")\n",
        "print(test_list)\n",
        "\n",
        "print(f\"\\nRemoving all occurrences of {item_to_remove}...\")\n",
        "updated_list = removeSeen(item_to_remove, test_list)\n",
        "\n",
        "print(\"Updated List:\")\n",
        "print(updated_list)"
      ]
    },
    {
      "cell_type": "markdown",
      "metadata": {
        "id": "KhOAuHwWR8k4"
      },
      "source": [
        "# MakePair(state, value):\n",
        "Creates a pair of state and value. Helps in managing state information."
      ]
    },
    {
      "cell_type": "code",
      "execution_count": 14,
      "metadata": {
        "id": "OpXlz57jQH3l"
      },
      "outputs": [],
      "source": [
        "def makePair(state, value):\n",
        "    return (state, value)\n"
      ]
    },
    {
      "cell_type": "code",
      "execution_count": 15,
      "metadata": {
        "id": "VP6tkPXTSBdv",
        "colab": {
          "base_uri": "https://localhost:8080/"
        },
        "outputId": "6ff39d42-0ec0-4f05-ceef-a43d11d69d33"
      },
      "outputs": [
        {
          "output_type": "stream",
          "name": "stdout",
          "text": [
            "Enter the state as 9 numbers separated by spaces (e.g., 1 2 3 4 5 6 7 8 0): 1 2 3 0 5 6 7 8 9\n",
            "Enter the value to pair with the state: 20\n",
            "\n",
            "State-Value Pair:\n",
            "((1, 2, 3, 0, 5, 6, 7, 8, 9), 20)\n"
          ]
        }
      ],
      "source": [
        "user_input_state = input(\"Enter the state as 9 numbers separated by spaces (e.g., 1 2 3 4 5 6 7 8 0): \")\n",
        "state = tuple(map(int, user_input_state.split()))\n",
        "\n",
        "value = int(input(\"Enter the value to pair with the state: \"))\n",
        "\n",
        "state_value_pair = makePair(state, value)\n",
        "\n",
        "print(f\"\\nState-Value Pair:\")\n",
        "print(state_value_pair)"
      ]
    },
    {
      "cell_type": "markdown",
      "metadata": {
        "id": "VXqpeZzhSnGw"
      },
      "source": [
        "# ReconstructPath(parent_map, start, goal):\n",
        " Reconstructs the path from start to goal using a map of parent states. Necessary for presenting the final solution path."
      ]
    },
    {
      "cell_type": "code",
      "execution_count": 16,
      "metadata": {
        "id": "82Beb2AjSEkK"
      },
      "outputs": [],
      "source": [
        "def reconstructPath(parent_map, start, goal):\n",
        "    path = []\n",
        "    current = goal\n",
        "    while current is not None:\n",
        "        path.append(current)\n",
        "        current = parent_map.get(current, None)\n",
        "    path.reverse()\n",
        "    return path\n"
      ]
    },
    {
      "cell_type": "code",
      "execution_count": 17,
      "metadata": {
        "colab": {
          "base_uri": "https://localhost:8080/"
        },
        "id": "xFxhklimSvcP",
        "outputId": "b0c45a6c-7af6-4fd4-9708-a57e37b87158"
      },
      "outputs": [
        {
          "output_type": "stream",
          "name": "stdout",
          "text": [
            "Path from start to goal:\n",
            "(1, 2, 3, 4, 5, 6, 7, 8, 0)\n",
            "(1, 2, 3, 4, 5, 6, 7, 0, 8)\n",
            "(1, 2, 3, 4, 5, 6, 0, 7, 8)\n",
            "(1, 2, 3, 4, 5, 0, 6, 7, 8)\n"
          ]
        }
      ],
      "source": [
        "\n",
        "parent_map = {\n",
        "    (1, 2, 3, 4, 5, 6, 7, 8, 0): None,  # Start state\n",
        "    (1, 2, 3, 4, 5, 6, 7, 0, 8): (1, 2, 3, 4, 5, 6, 7, 8, 0),  # Move\n",
        "    (1, 2, 3, 4, 5, 6, 0, 7, 8): (1, 2, 3, 4, 5, 6, 7, 0, 8),  # Move\n",
        "    (1, 2, 3, 4, 5, 0, 6, 7, 8): (1, 2, 3, 4, 5, 6, 0, 7, 8)   # Move\n",
        "}\n",
        "\n",
        "start_state = (1, 2, 3, 4, 5, 6, 7, 8, 0)\n",
        "goal_state = (1, 2, 3, 4, 5, 0, 6, 7, 8)\n",
        "\n",
        "# Reconstruct the path\n",
        "path = reconstructPath(parent_map, start_state, goal_state)\n",
        "\n",
        "print(\"Path from start to goal:\")\n",
        "for state in path:\n",
        "    print(state)\n"
      ]
    },
    {
      "cell_type": "markdown",
      "metadata": {
        "id": "yMQWtsm2UWf2"
      },
      "source": [
        "# DFID for the 8-puzzle problem"
      ]
    },
    {
      "cell_type": "markdown",
      "source": [
        "# **Implementation of DFID for 8-Puzzle**\n",
        "\n",
        "**Define the Depth-First Iterative Deepening (DFID) Algorithm:**\n",
        "\n",
        "Depth-First Search (DFS) will be executed iteratively with increasing depth limits until the goal is found.\n",
        "\n",
        "This ensures that we explore nodes at shallower depths before deeper nodes, which combines the advantages of both DFS and BFS.\n",
        "\n",
        "**Analyze Time and Space Complexity:**\n",
        "\n",
        "**Time Complexity:**\n",
        " O(b^d), where b is the branching factor (number of possible moves) and d is the depth of the solution. In the worst case, each level of the tree is explored multiple times.\n",
        "\n",
        "**Space Complexity:**\n",
        "O(b*d), where b is the branching factor and d is the depth limit. The space complexity is proportional to the depth limit due to the stack used in DFS.\n",
        "Comment on Optimality and Completeness:\n",
        "\n",
        "**Completeness:** DFID is complete; it will always find a solution if one exists, as it systematically explores all nodes at increasing depths.\n",
        "\n",
        "**Optimality:** DFID is not necessarily optimal. It may find a solution, but it does not guarantee the shortest path to the goal state."
      ],
      "metadata": {
        "id": "Tp5YMZVoiPIH"
      }
    },
    {
      "cell_type": "code",
      "execution_count": 18,
      "metadata": {
        "colab": {
          "base_uri": "https://localhost:8080/"
        },
        "id": "b3ukuUUQS4QC",
        "outputId": "3b455aab-bbc6-4198-d81c-467b4ffeedd2"
      },
      "outputs": [
        {
          "output_type": "stream",
          "name": "stdout",
          "text": [
            "Searching at depth: 0\n",
            "\n",
            "Path from start to goal:\n",
            "(1, 2, 3, 4, 5, 6, 7, 8, 0)\n"
          ]
        }
      ],
      "source": [
        "def dfs_with_limit(start_state, goal_state, depth_limit, parent_map):\n",
        "    stack = [(start_state, [], 0)]  # (current_state, path, depth)\n",
        "    visited = set()\n",
        "\n",
        "    while stack:\n",
        "        state, path, depth = stack.pop()\n",
        "\n",
        "        if depth > depth_limit:\n",
        "            continue\n",
        "\n",
        "        if state == goal_state:\n",
        "            return path + [state]\n",
        "\n",
        "        visited.add(state)\n",
        "\n",
        "        for move in generate_moves(state):\n",
        "            if move not in visited:\n",
        "                stack.append((move, path + [state], depth + 1))\n",
        "                visited.add(move)\n",
        "\n",
        "    return None\n",
        "\n",
        "def depth_first_iterative_deepening(start_state, goal_state):\n",
        "    depth = 0\n",
        "    while True:\n",
        "        print(f\"Searching at depth: {depth}\")\n",
        "        result = dfs_with_limit(start_state, goal_state, depth, {})\n",
        "        if result:\n",
        "            return result\n",
        "        depth += 1\n",
        "\n",
        "# Example usage:\n",
        "start_state = (1, 2, 3, 4, 5, 6, 7, 8, 0)\n",
        "goal_state = (1, 2, 3, 4, 5, 6, 7, 8, 0)  # Define the goal state\n",
        "\n",
        "path = depth_first_iterative_deepening(start_state, goal_state)\n",
        "if path:\n",
        "    print(\"\\nPath from start to goal:\")\n",
        "    for state in path:\n",
        "        print(state)\n",
        "else:\n",
        "    print(\"No path found.\")\n"
      ]
    },
    {
      "cell_type": "code",
      "source": [
        "def depth_first_iterative_deepening(start_state, goal_state):\n",
        "    depth = 0\n",
        "    while True:\n",
        "        result = depth_limited_search(start_state, goal_state, depth)\n",
        "        if result != \"cutoff\":\n",
        "            return result\n",
        "        depth += 1\n",
        "\n",
        "def depth_limited_search(state, goal_state, depth):\n",
        "    if state == goal_state:\n",
        "        return [state]\n",
        "    if depth == 0:\n",
        "        return None\n",
        "    cutoff_occurred = False\n",
        "    for neighbor in moveGen(state):\n",
        "        result = depth_limited_search(neighbor, goal_state, depth - 1)\n",
        "        if result == \"cutoff\":\n",
        "            cutoff_occurred = True\n",
        "        elif result is not None:\n",
        "            return [state] + result\n",
        "    return \"cutoff\" if cutoff_occurred else None\n"
      ],
      "metadata": {
        "id": "laWJAjLZmEYG"
      },
      "execution_count": 20,
      "outputs": []
    },
    {
      "cell_type": "markdown",
      "source": [
        "# Summary\n",
        "\n",
        "Time Complexity: O(b^d) due to repeated explorations.\n",
        "\n",
        "Space Complexity: O(b*d) due to the depth of the search.\n",
        "\n",
        "Completeness: Guaranteed; it will find a solution if one exists.\n",
        "\n",
        "Optimality: Not guaranteed; may not find the shortest path.\n",
        "\n",
        "This implementation will allow you to explore paths from the start state to the goal state, while taking advantage of the iterative deepening approach."
      ],
      "metadata": {
        "id": "f0OKfP6ciGlX"
      }
    },
    {
      "cell_type": "code",
      "execution_count": null,
      "metadata": {
        "id": "HkrMbUMvUeJl"
      },
      "outputs": [],
      "source": []
    }
  ],
  "metadata": {
    "colab": {
      "provenance": [],
      "gpuType": "T4"
    },
    "kernelspec": {
      "display_name": "Python 3",
      "name": "python3"
    },
    "language_info": {
      "name": "python"
    },
    "accelerator": "GPU"
  },
  "nbformat": 4,
  "nbformat_minor": 0
}