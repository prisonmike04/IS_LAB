{
 "cells": [
  {
   "cell_type": "markdown",
   "metadata": {
    "id": "i7yyBn6AyOVr"
   },
   "source": [
    "# Name: Ayushi Singh\n",
    "\n",
    "# SAP ID : 60009220202"
   ]
  },
  {
   "cell_type": "code",
   "execution_count": null,
   "metadata": {
    "id": "gJFotkBR0VxD"
   },
   "outputs": [],
   "source": [
    "def occurs_in(s, list):\n",
    "  for item in list:\n",
    "    if s == item:\n",
    "      return True\n",
    "  return False"
   ]
  },
  {
   "cell_type": "code",
   "execution_count": null,
   "metadata": {
    "id": "ZgPWa4bv0YES"
   },
   "outputs": [],
   "source": [
    "def remove_seen(new_states, seen):\n",
    "  return [state for state in new_states if not occurs_in(state, seen)]"
   ]
  },
  {
   "cell_type": "code",
   "execution_count": null,
   "metadata": {
    "id": "gvhinznD0aE8"
   },
   "outputs": [],
   "source": [
    "def make_pairs(list):\n",
    "  pairs = []\n",
    "  for i in range(len(list)):\n",
    "    for j in range(i + 1, len(list)):\n",
    "      pairs.append((list[i], list[j]))\n",
    "  return pairs"
   ]
  },
  {
   "cell_type": "markdown",
   "id": "b02bd8b3",
   "metadata": {},
   "source": [
    "# Histogram Equalization"
   ]
  },
  {
   "cell_type": "markdown",
   "id": "163281c6",
   "metadata": {},
   "source": [
    "This section performs Histogram Equalization on the input image to enhance its contrast. The process involves redistributing pixel intensity values based on the cumulative distribution function (CDF)."
   ]
  },
  {
   "cell_type": "markdown",
   "id": "fd2ff8f2",
   "metadata": {},
   "source": [
    "# Histogram Comparison"
   ]
  },
  {
   "cell_type": "markdown",
   "id": "0bf841f2",
   "metadata": {},
   "source": [
    "The histograms of the original and enhanced images are compared to observe the changes in pixel intensity distribution. The contrast improvement is reflected in the spread and uniformity of the histogram."
   ]
  },
  {
   "cell_type": "markdown",
   "id": "a9841210",
   "metadata": {},
   "source": [
    "# Histogram Stretching"
   ]
  },
  {
   "cell_type": "markdown",
   "id": "b696863e",
   "metadata": {},
   "source": [
    "This section performs Histogram Stretching, which increases the contrast of the image by stretching the pixel values to utilize the full range (0-255). Unlike equalization, it maintains the shape of the original histogram."
   ]
  },
  {
   "cell_type": "markdown",
   "id": "c064e840",
   "metadata": {},
   "source": [
    "# Summary"
   ]
  },
  {
   "cell_type": "markdown",
   "id": "c9ce3028",
   "metadata": {},
   "source": [
    "In this task, we implemented two image enhancement techniques: **Histogram Equalization** and **Histogram Stretching**. Histogram Equalization redistributes pixel values based on the cumulative distribution function, leading to enhanced contrast by equalizing the histogram. Histogram Stretching, on the other hand, increases contrast by stretching the dynamic range of pixel values to cover the full 0-255 range."
   ]
  },
  {
   "cell_type": "markdown",
   "id": "c616caa7",
   "metadata": {},
   "source": [
    "# Conclusion"
   ]
  },
  {
   "cell_type": "markdown",
   "id": "ecad0c21",
   "metadata": {},
   "source": [
    "The two methods we explored have different impacts on image contrast. Histogram Equalization is more aggressive, often leading to significant contrast enhancement but potentially introducing artifacts. Histogram Stretching is more conservative, enhancing contrast by using the full range of intensity values while maintaining the histogram's original shape. The choice between these techniques depends on the specific requirements of the image processing task."
   ]
  },
  {
   "cell_type": "code",
   "execution_count": null,
   "metadata": {
    "id": "_H99iYU_0mjr"
   },
   "outputs": [],
   "source": [
    "def reconstruct_path(came_from, current):\n",
    "  total_path = [current]\n",
    "  while current in came_from.keys():\n",
    "    current = came_from[current]\n",
    "    total_path.insert(0, current)\n",
    "  return total_path\n"
   ]
  },
  {
   "cell_type": "code",
   "execution_count": null,
   "metadata": {
    "id": "dFzPOoUAz90T"
   },
   "outputs": [],
   "source": [
    "def movegen(state):\n",
    "    moves = []\n",
    "    for i in range(len(state)):\n",
    "        for j in range(len(state)):\n",
    "            if i != j and state[i] != '0' and state[i] and (not state[j] or state[i][-1] < state[j][-1]):\n",
    "                new_state = [stack[:] if stack != '0' else [] for stack in state]\n",
    "                block = new_state[i].pop()\n",
    "                if not new_state[i]:\n",
    "                    new_state[i] = '0'\n",
    "                if new_state[j] == '0':\n",
    "                    new_state[j] = []\n",
    "                new_state[j].append(block)\n",
    "                moves.append(new_state)\n",
    "    return moves\n"
   ]
  },
  {
   "cell_type": "code",
   "execution_count": null,
   "metadata": {
    "colab": {
     "base_uri": "https://localhost:8080/"
    },
    "id": "5SaC5uoC_ic7",
    "outputId": "010a8c20-43d2-4941-cf64-351315703192"
   },
   "outputs": [
    {
     "name": "stdout",
     "output_type": "stream",
     "text": [
      "Possible moves from state [['A'], ['B', 'C']] :\n",
      "['0', ['B', 'C', 'A']]\n"
     ]
    }
   ],
   "source": [
    "test_state = [['A'], ['B', 'C']]\n",
    "possible_moves = movegen(test_state)\n",
    "print(\"Possible moves from state\", test_state, \":\")\n",
    "for move in possible_moves:\n",
    "    print(move)"
   ]
  },
  {
   "cell_type": "code",
   "execution_count": null,
   "metadata": {
    "id": "5gMmUfzFAcO0"
   },
   "outputs": [],
   "source": [
    "def heuristic(state, goal):\n",
    "    misplaced = 0\n",
    "    for i in range(len(state)):\n",
    "        for j in range(len(state[i])):\n",
    "            if i < len(goal) and j < len(goal[i]) and state[i][j] != goal[i][j]:\n",
    "                misplaced += 1\n",
    "    return misplaced"
   ]
  },
  {
   "cell_type": "code",
   "execution_count": null,
   "metadata": {
    "colab": {
     "base_uri": "https://localhost:8080/"
    },
    "id": "KCkKdI7LAhFF",
    "outputId": "d356eb22-489e-4778-e33d-001b2d2ec13c"
   },
   "outputs": [
    {
     "name": "stdout",
     "output_type": "stream",
     "text": [
      "Heuristic for test_state1: 0\n",
      "Heuristic for test_state2: 2\n"
     ]
    }
   ],
   "source": [
    "test_state1 = [['A'], ['B', 'C']]\n",
    "test_state2 = [['B', 'C'], ['A']]\n",
    "goal_state = [['A', 'B', 'C'], []]\n",
    "\n",
    "print(\"Heuristic for test_state1:\", heuristic(test_state1, goal_state))\n",
    "print(\"Heuristic for test_state2:\", heuristic(test_state2, goal_state))"
   ]
  },
  {
   "cell_type": "code",
   "execution_count": null,
   "metadata": {
    "id": "ZT8BhPgF_bPP"
   },
   "outputs": [],
   "source": [
    "def hill_climbing(initial_state, goal_state, heuristic_func):\n",
    "    current_state = initial_state\n",
    "    while True:\n",
    "        neighbors = movegen(current_state)\n",
    "        if not neighbors:\n",
    "            break\n",
    "        neighbor_heuristics = [heuristic_func(neighbor, goal_state) for neighbor in neighbors]\n",
    "        best_neighbor = neighbors[neighbor_heuristics.index(min(neighbor_heuristics))]\n",
    "        if heuristic_func(best_neighbor, goal_state) >= heuristic_func(current_state, goal_state):\n",
    "            break\n",
    "        current_state = best_neighbor\n",
    "    return current_state"
   ]
  },
  {
   "cell_type": "code",
   "execution_count": null,
   "metadata": {
    "colab": {
     "base_uri": "https://localhost:8080/"
    },
    "id": "mLx2YRKpERnM",
    "outputId": "1d97b4cf-bf31-4614-b123-cbf1e253d7dc"
   },
   "outputs": [
    {
     "name": "stdout",
     "output_type": "stream",
     "text": [
      "Final state reached by hill climbing: [['C', 'B'], ['A']]\n",
      "Heuristic of the final state: 1\n"
     ]
    }
   ],
   "source": [
    "\n",
    "initial_state = [['C', 'B', 'A'], []]\n",
    "goal_state = [['A', 'B', 'C'], []]\n",
    "\n",
    "final_state = hill_climbing(initial_state, goal_state, heuristic)\n",
    "print(\"Final state reached by hill climbing:\", final_state)\n",
    "print(\"Heuristic of the final state:\", heuristic(final_state, goal_state))"
   ]
  },
  {
   "cell_type": "code",
   "execution_count": null,
   "metadata": {
    "id": "BxNWWxu8BzSs"
   },
   "outputs": [],
   "source": [
    "def heuristic2(state, goal):\n",
    "    manhattan_distance = 0\n",
    "    for i in range(len(state)):\n",
    "        for j in range(len(state[i])):\n",
    "            block = state[i][j]\n",
    "            goal_i, goal_j = find_goal_position(block, goal)\n",
    "            manhattan_distance += abs(i - goal_i) + abs(j - goal_j)\n",
    "    return manhattan_distance\n",
    "\n",
    "def find_goal_position(block, goal):\n",
    "    for i in range(len(goal)):\n",
    "        for j in range(len(goal[i])):\n",
    "            if goal[i][j] == block:\n",
    "                return i, j\n",
    "    return None, None\n"
   ]
  },
  {
   "cell_type": "code",
   "execution_count": null,
   "metadata": {
    "colab": {
     "base_uri": "https://localhost:8080/",
     "height": 321
    },
    "id": "tgmmseGmFRtk",
    "outputId": "3ed2f6a6-ca3c-4664-eaca-6f1d0e7b1d60"
   },
   "outputs": [
    {
     "ename": "TypeError",
     "evalue": "unsupported operand type(s) for -: 'int' and 'NoneType'",
     "output_type": "error",
     "traceback": [
      "\u001b[0;31m---------------------------------------------------------------------------\u001b[0m",
      "\u001b[0;31mTypeError\u001b[0m                                 Traceback (most recent call last)",
      "\u001b[0;32m<ipython-input-32-caacdf66c741>\u001b[0m in \u001b[0;36m<cell line: 1>\u001b[0;34m()\u001b[0m\n\u001b[0;32m----> 1\u001b[0;31m \u001b[0mfinal_state\u001b[0m \u001b[0;34m=\u001b[0m \u001b[0mhill_climbing\u001b[0m\u001b[0;34m(\u001b[0m\u001b[0minitial_state\u001b[0m\u001b[0;34m,\u001b[0m \u001b[0mgoal_state\u001b[0m\u001b[0;34m,\u001b[0m \u001b[0mheuristic2\u001b[0m\u001b[0;34m)\u001b[0m\u001b[0;34m\u001b[0m\u001b[0;34m\u001b[0m\u001b[0m\n\u001b[0m\u001b[1;32m      2\u001b[0m \u001b[0mprint\u001b[0m\u001b[0;34m(\u001b[0m\u001b[0;34m\"Final state reached by hill climbing:\"\u001b[0m\u001b[0;34m,\u001b[0m \u001b[0mfinal_state\u001b[0m\u001b[0;34m)\u001b[0m\u001b[0;34m\u001b[0m\u001b[0;34m\u001b[0m\u001b[0m\n\u001b[1;32m      3\u001b[0m \u001b[0mprint\u001b[0m\u001b[0;34m(\u001b[0m\u001b[0;34m\"Heuristic of the final state:\"\u001b[0m\u001b[0;34m,\u001b[0m \u001b[0mheuristic2\u001b[0m\u001b[0;34m(\u001b[0m\u001b[0mfinal_state\u001b[0m\u001b[0;34m,\u001b[0m \u001b[0mgoal_state\u001b[0m\u001b[0;34m)\u001b[0m\u001b[0;34m)\u001b[0m\u001b[0;34m\u001b[0m\u001b[0;34m\u001b[0m\u001b[0m\n",
      "\u001b[0;32m<ipython-input-29-743b6f8da291>\u001b[0m in \u001b[0;36mhill_climbing\u001b[0;34m(initial_state, goal_state, heuristic_func)\u001b[0m\n\u001b[1;32m      5\u001b[0m         \u001b[0;32mif\u001b[0m \u001b[0;32mnot\u001b[0m \u001b[0mneighbors\u001b[0m\u001b[0;34m:\u001b[0m\u001b[0;34m\u001b[0m\u001b[0;34m\u001b[0m\u001b[0m\n\u001b[1;32m      6\u001b[0m             \u001b[0;32mbreak\u001b[0m\u001b[0;34m\u001b[0m\u001b[0;34m\u001b[0m\u001b[0m\n\u001b[0;32m----> 7\u001b[0;31m         \u001b[0mneighbor_heuristics\u001b[0m \u001b[0;34m=\u001b[0m \u001b[0;34m[\u001b[0m\u001b[0mheuristic_func\u001b[0m\u001b[0;34m(\u001b[0m\u001b[0mneighbor\u001b[0m\u001b[0;34m,\u001b[0m \u001b[0mgoal_state\u001b[0m\u001b[0;34m)\u001b[0m \u001b[0;32mfor\u001b[0m \u001b[0mneighbor\u001b[0m \u001b[0;32min\u001b[0m \u001b[0mneighbors\u001b[0m\u001b[0;34m]\u001b[0m\u001b[0;34m\u001b[0m\u001b[0;34m\u001b[0m\u001b[0m\n\u001b[0m\u001b[1;32m      8\u001b[0m         \u001b[0mbest_neighbor\u001b[0m \u001b[0;34m=\u001b[0m \u001b[0mneighbors\u001b[0m\u001b[0;34m[\u001b[0m\u001b[0mneighbor_heuristics\u001b[0m\u001b[0;34m.\u001b[0m\u001b[0mindex\u001b[0m\u001b[0;34m(\u001b[0m\u001b[0mmin\u001b[0m\u001b[0;34m(\u001b[0m\u001b[0mneighbor_heuristics\u001b[0m\u001b[0;34m)\u001b[0m\u001b[0;34m)\u001b[0m\u001b[0;34m]\u001b[0m\u001b[0;34m\u001b[0m\u001b[0;34m\u001b[0m\u001b[0m\n\u001b[1;32m      9\u001b[0m         \u001b[0;32mif\u001b[0m \u001b[0mheuristic_func\u001b[0m\u001b[0;34m(\u001b[0m\u001b[0mbest_neighbor\u001b[0m\u001b[0;34m,\u001b[0m \u001b[0mgoal_state\u001b[0m\u001b[0;34m)\u001b[0m \u001b[0;34m>=\u001b[0m \u001b[0mheuristic_func\u001b[0m\u001b[0;34m(\u001b[0m\u001b[0mcurrent_state\u001b[0m\u001b[0;34m,\u001b[0m \u001b[0mgoal_state\u001b[0m\u001b[0;34m)\u001b[0m\u001b[0;34m:\u001b[0m\u001b[0;34m\u001b[0m\u001b[0;34m\u001b[0m\u001b[0m\n",
      "\u001b[0;32m<ipython-input-29-743b6f8da291>\u001b[0m in \u001b[0;36m<listcomp>\u001b[0;34m(.0)\u001b[0m\n\u001b[1;32m      5\u001b[0m         \u001b[0;32mif\u001b[0m \u001b[0;32mnot\u001b[0m \u001b[0mneighbors\u001b[0m\u001b[0;34m:\u001b[0m\u001b[0;34m\u001b[0m\u001b[0;34m\u001b[0m\u001b[0m\n\u001b[1;32m      6\u001b[0m             \u001b[0;32mbreak\u001b[0m\u001b[0;34m\u001b[0m\u001b[0;34m\u001b[0m\u001b[0m\n\u001b[0;32m----> 7\u001b[0;31m         \u001b[0mneighbor_heuristics\u001b[0m \u001b[0;34m=\u001b[0m \u001b[0;34m[\u001b[0m\u001b[0mheuristic_func\u001b[0m\u001b[0;34m(\u001b[0m\u001b[0mneighbor\u001b[0m\u001b[0;34m,\u001b[0m \u001b[0mgoal_state\u001b[0m\u001b[0;34m)\u001b[0m \u001b[0;32mfor\u001b[0m \u001b[0mneighbor\u001b[0m \u001b[0;32min\u001b[0m \u001b[0mneighbors\u001b[0m\u001b[0;34m]\u001b[0m\u001b[0;34m\u001b[0m\u001b[0;34m\u001b[0m\u001b[0m\n\u001b[0m\u001b[1;32m      8\u001b[0m         \u001b[0mbest_neighbor\u001b[0m \u001b[0;34m=\u001b[0m \u001b[0mneighbors\u001b[0m\u001b[0;34m[\u001b[0m\u001b[0mneighbor_heuristics\u001b[0m\u001b[0;34m.\u001b[0m\u001b[0mindex\u001b[0m\u001b[0;34m(\u001b[0m\u001b[0mmin\u001b[0m\u001b[0;34m(\u001b[0m\u001b[0mneighbor_heuristics\u001b[0m\u001b[0;34m)\u001b[0m\u001b[0;34m)\u001b[0m\u001b[0;34m]\u001b[0m\u001b[0;34m\u001b[0m\u001b[0;34m\u001b[0m\u001b[0m\n\u001b[1;32m      9\u001b[0m         \u001b[0;32mif\u001b[0m \u001b[0mheuristic_func\u001b[0m\u001b[0;34m(\u001b[0m\u001b[0mbest_neighbor\u001b[0m\u001b[0;34m,\u001b[0m \u001b[0mgoal_state\u001b[0m\u001b[0;34m)\u001b[0m \u001b[0;34m>=\u001b[0m \u001b[0mheuristic_func\u001b[0m\u001b[0;34m(\u001b[0m\u001b[0mcurrent_state\u001b[0m\u001b[0;34m,\u001b[0m \u001b[0mgoal_state\u001b[0m\u001b[0;34m)\u001b[0m\u001b[0;34m:\u001b[0m\u001b[0;34m\u001b[0m\u001b[0;34m\u001b[0m\u001b[0m\n",
      "\u001b[0;32m<ipython-input-31-30dede70974a>\u001b[0m in \u001b[0;36mheuristic2\u001b[0;34m(state, goal)\u001b[0m\n\u001b[1;32m      5\u001b[0m             \u001b[0mblock\u001b[0m \u001b[0;34m=\u001b[0m \u001b[0mstate\u001b[0m\u001b[0;34m[\u001b[0m\u001b[0mi\u001b[0m\u001b[0;34m]\u001b[0m\u001b[0;34m[\u001b[0m\u001b[0mj\u001b[0m\u001b[0;34m]\u001b[0m\u001b[0;34m\u001b[0m\u001b[0;34m\u001b[0m\u001b[0m\n\u001b[1;32m      6\u001b[0m             \u001b[0mgoal_i\u001b[0m\u001b[0;34m,\u001b[0m \u001b[0mgoal_j\u001b[0m \u001b[0;34m=\u001b[0m \u001b[0mfind_goal_position\u001b[0m\u001b[0;34m(\u001b[0m\u001b[0mblock\u001b[0m\u001b[0;34m,\u001b[0m \u001b[0mgoal\u001b[0m\u001b[0;34m)\u001b[0m\u001b[0;34m\u001b[0m\u001b[0;34m\u001b[0m\u001b[0m\n\u001b[0;32m----> 7\u001b[0;31m             \u001b[0mmanhattan_distance\u001b[0m \u001b[0;34m+=\u001b[0m \u001b[0mabs\u001b[0m\u001b[0;34m(\u001b[0m\u001b[0mi\u001b[0m \u001b[0;34m-\u001b[0m \u001b[0mgoal_i\u001b[0m\u001b[0;34m)\u001b[0m \u001b[0;34m+\u001b[0m \u001b[0mabs\u001b[0m\u001b[0;34m(\u001b[0m\u001b[0mj\u001b[0m \u001b[0;34m-\u001b[0m \u001b[0mgoal_j\u001b[0m\u001b[0;34m)\u001b[0m\u001b[0;34m\u001b[0m\u001b[0;34m\u001b[0m\u001b[0m\n\u001b[0m\u001b[1;32m      8\u001b[0m     \u001b[0;32mreturn\u001b[0m \u001b[0mmanhattan_distance\u001b[0m\u001b[0;34m\u001b[0m\u001b[0;34m\u001b[0m\u001b[0m\n\u001b[1;32m      9\u001b[0m \u001b[0;34m\u001b[0m\u001b[0m\n",
      "\u001b[0;31mTypeError\u001b[0m: unsupported operand type(s) for -: 'int' and 'NoneType'"
     ]
    }
   ],
   "source": [
    "final_state = hill_climbing(initial_state, goal_state, heuristic2)\n",
    "print(\"Final state reached by hill climbing:\", final_state)\n",
    "print(\"Heuristic of the final state:\", heuristic2(final_state, goal_state))"
   ]
  },
  {
   "cell_type": "markdown",
   "metadata": {
    "id": "GgmVhit1wkax"
   },
   "source": [
    "# Heuristic 3: Count of blocks in incorrect positions, ignoring their order."
   ]
  },
  {
   "cell_type": "code",
   "execution_count": null,
   "metadata": {
    "id": "6FfK3jQFFUPN"
   },
   "outputs": [],
   "source": [
    "def heuristic3(state, goal):\n",
    "    incorrect_blocks = 0\n",
    "    for i in range(len(state)):\n",
    "        for j in range(len(state[i])):\n",
    "            if state[i][j] not in goal[i]:\n",
    "                incorrect_blocks += 1\n",
    "    return incorrect_blocks"
   ]
  },
  {
   "cell_type": "markdown",
   "metadata": {
    "id": "5_1NKlpUwoOH"
   },
   "source": [
    "# Heuristic 4: Sum of inversions in the current state (pairs of blocks out of order)"
   ]
  },
  {
   "cell_type": "code",
   "execution_count": null,
   "metadata": {
    "id": "7YsUjr9gwhnq"
   },
   "outputs": [],
   "source": [
    "def heuristic4(state, goal):\n",
    "    def count_inversions(arr):\n",
    "        inv_count = 0\n",
    "        for i in range(len(arr)):\n",
    "            for j in range(i + 1, len(arr)):\n",
    "                if arr[i] > arr[j]:\n",
    "                    inv_count += 1\n",
    "        return inv_count\n",
    "\n",
    "    inversions = 0\n",
    "    for i in range(len(state)):\n",
    "        state_line = [block for block in state[i] if block != '0']\n",
    "        goal_line = [block for block in goal[i] if block != '0']\n",
    "        inversions += count_inversions(state_line + goal_line)\n",
    "    return inversions"
   ]
  },
  {
   "cell_type": "markdown",
   "metadata": {
    "id": "bmgMlpcgwyVZ"
   },
   "source": [
    "\n",
    "# Modify the hill climbing function to accept any heuristic"
   ]
  },
  {
   "cell_type": "code",
   "execution_count": null,
   "metadata": {
    "id": "eeDK6a6xwsry"
   },
   "outputs": [],
   "source": [
    "def hill_climbing(initial_state, goal_state, heuristic_func):\n",
    "    current_state = initial_state\n",
    "    while True:\n",
    "        neighbors = movegen(current_state)\n",
    "        if not neighbors:\n",
    "            break\n",
    "        neighbor_heuristics = [heuristic_func(neighbor, goal_state) for neighbor in neighbors]\n",
    "        best_neighbor = neighbors[neighbor_heuristics.index(min(neighbor_heuristics))]\n",
    "        if heuristic_func(best_neighbor, goal_state) >= heuristic_func(current_state, goal_state):\n",
    "            break\n",
    "        current_state = best_neighbor\n",
    "    return current_state"
   ]
  },
  {
   "cell_type": "markdown",
   "metadata": {
    "id": "usTjyZSlw3rq"
   },
   "source": [
    "# Testing hill climbing with all heuristics"
   ]
  },
  {
   "cell_type": "code",
   "execution_count": null,
   "metadata": {
    "colab": {
     "base_uri": "https://localhost:8080/",
     "height": 373
    },
    "id": "qDyXyBYKw0al",
    "outputId": "9f0051f6-afe5-42cb-e9e2-c8616ceedb75"
   },
   "outputs": [
    {
     "name": "stdout",
     "output_type": "stream",
     "text": [
      "Final state with heuristic1: [['C', 'B', 'A'], []]\n"
     ]
    },
    {
     "ename": "TypeError",
     "evalue": "unsupported operand type(s) for -: 'int' and 'NoneType'",
     "output_type": "error",
     "traceback": [
      "\u001b[0;31m---------------------------------------------------------------------------\u001b[0m",
      "\u001b[0;31mTypeError\u001b[0m                                 Traceback (most recent call last)",
      "\u001b[0;32m<ipython-input-18-b0f7023c1b26>\u001b[0m in \u001b[0;36m<cell line: 5>\u001b[0;34m()\u001b[0m\n\u001b[1;32m      3\u001b[0m \u001b[0;34m\u001b[0m\u001b[0m\n\u001b[1;32m      4\u001b[0m \u001b[0mprint\u001b[0m\u001b[0;34m(\u001b[0m\u001b[0;34m\"Final state with heuristic1:\"\u001b[0m\u001b[0;34m,\u001b[0m \u001b[0mhill_climbing\u001b[0m\u001b[0;34m(\u001b[0m\u001b[0minitial_state\u001b[0m\u001b[0;34m,\u001b[0m \u001b[0mgoal_state\u001b[0m\u001b[0;34m,\u001b[0m \u001b[0mheuristic\u001b[0m\u001b[0;34m)\u001b[0m\u001b[0;34m)\u001b[0m\u001b[0;34m\u001b[0m\u001b[0;34m\u001b[0m\u001b[0m\n\u001b[0;32m----> 5\u001b[0;31m \u001b[0mprint\u001b[0m\u001b[0;34m(\u001b[0m\u001b[0;34m\"Final state with heuristic2:\"\u001b[0m\u001b[0;34m,\u001b[0m \u001b[0mhill_climbing\u001b[0m\u001b[0;34m(\u001b[0m\u001b[0minitial_state\u001b[0m\u001b[0;34m,\u001b[0m \u001b[0mgoal_state\u001b[0m\u001b[0;34m,\u001b[0m \u001b[0mheuristic2\u001b[0m\u001b[0;34m)\u001b[0m\u001b[0;34m)\u001b[0m\u001b[0;34m\u001b[0m\u001b[0;34m\u001b[0m\u001b[0m\n\u001b[0m\u001b[1;32m      6\u001b[0m \u001b[0mprint\u001b[0m\u001b[0;34m(\u001b[0m\u001b[0;34m\"Final state with heuristic3:\"\u001b[0m\u001b[0;34m,\u001b[0m \u001b[0mhill_climbing\u001b[0m\u001b[0;34m(\u001b[0m\u001b[0minitial_state\u001b[0m\u001b[0;34m,\u001b[0m \u001b[0mgoal_state\u001b[0m\u001b[0;34m,\u001b[0m \u001b[0mheuristic3\u001b[0m\u001b[0;34m)\u001b[0m\u001b[0;34m)\u001b[0m\u001b[0;34m\u001b[0m\u001b[0;34m\u001b[0m\u001b[0m\n\u001b[1;32m      7\u001b[0m \u001b[0mprint\u001b[0m\u001b[0;34m(\u001b[0m\u001b[0;34m\"Final state with heuristic4:\"\u001b[0m\u001b[0;34m,\u001b[0m \u001b[0mhill_climbing\u001b[0m\u001b[0;34m(\u001b[0m\u001b[0minitial_state\u001b[0m\u001b[0;34m,\u001b[0m \u001b[0mgoal_state\u001b[0m\u001b[0;34m,\u001b[0m \u001b[0mheuristic4\u001b[0m\u001b[0;34m)\u001b[0m\u001b[0;34m)\u001b[0m\u001b[0;34m\u001b[0m\u001b[0;34m\u001b[0m\u001b[0m\n",
      "\u001b[0;32m<ipython-input-17-743b6f8da291>\u001b[0m in \u001b[0;36mhill_climbing\u001b[0;34m(initial_state, goal_state, heuristic_func)\u001b[0m\n\u001b[1;32m      5\u001b[0m         \u001b[0;32mif\u001b[0m \u001b[0;32mnot\u001b[0m \u001b[0mneighbors\u001b[0m\u001b[0;34m:\u001b[0m\u001b[0;34m\u001b[0m\u001b[0;34m\u001b[0m\u001b[0m\n\u001b[1;32m      6\u001b[0m             \u001b[0;32mbreak\u001b[0m\u001b[0;34m\u001b[0m\u001b[0;34m\u001b[0m\u001b[0m\n\u001b[0;32m----> 7\u001b[0;31m         \u001b[0mneighbor_heuristics\u001b[0m \u001b[0;34m=\u001b[0m \u001b[0;34m[\u001b[0m\u001b[0mheuristic_func\u001b[0m\u001b[0;34m(\u001b[0m\u001b[0mneighbor\u001b[0m\u001b[0;34m,\u001b[0m \u001b[0mgoal_state\u001b[0m\u001b[0;34m)\u001b[0m \u001b[0;32mfor\u001b[0m \u001b[0mneighbor\u001b[0m \u001b[0;32min\u001b[0m \u001b[0mneighbors\u001b[0m\u001b[0;34m]\u001b[0m\u001b[0;34m\u001b[0m\u001b[0;34m\u001b[0m\u001b[0m\n\u001b[0m\u001b[1;32m      8\u001b[0m         \u001b[0mbest_neighbor\u001b[0m \u001b[0;34m=\u001b[0m \u001b[0mneighbors\u001b[0m\u001b[0;34m[\u001b[0m\u001b[0mneighbor_heuristics\u001b[0m\u001b[0;34m.\u001b[0m\u001b[0mindex\u001b[0m\u001b[0;34m(\u001b[0m\u001b[0mmin\u001b[0m\u001b[0;34m(\u001b[0m\u001b[0mneighbor_heuristics\u001b[0m\u001b[0;34m)\u001b[0m\u001b[0;34m)\u001b[0m\u001b[0;34m]\u001b[0m\u001b[0;34m\u001b[0m\u001b[0;34m\u001b[0m\u001b[0m\n\u001b[1;32m      9\u001b[0m         \u001b[0;32mif\u001b[0m \u001b[0mheuristic_func\u001b[0m\u001b[0;34m(\u001b[0m\u001b[0mbest_neighbor\u001b[0m\u001b[0;34m,\u001b[0m \u001b[0mgoal_state\u001b[0m\u001b[0;34m)\u001b[0m \u001b[0;34m>=\u001b[0m \u001b[0mheuristic_func\u001b[0m\u001b[0;34m(\u001b[0m\u001b[0mcurrent_state\u001b[0m\u001b[0;34m,\u001b[0m \u001b[0mgoal_state\u001b[0m\u001b[0;34m)\u001b[0m\u001b[0;34m:\u001b[0m\u001b[0;34m\u001b[0m\u001b[0;34m\u001b[0m\u001b[0m\n",
      "\u001b[0;32m<ipython-input-17-743b6f8da291>\u001b[0m in \u001b[0;36m<listcomp>\u001b[0;34m(.0)\u001b[0m\n\u001b[1;32m      5\u001b[0m         \u001b[0;32mif\u001b[0m \u001b[0;32mnot\u001b[0m \u001b[0mneighbors\u001b[0m\u001b[0;34m:\u001b[0m\u001b[0;34m\u001b[0m\u001b[0;34m\u001b[0m\u001b[0m\n\u001b[1;32m      6\u001b[0m             \u001b[0;32mbreak\u001b[0m\u001b[0;34m\u001b[0m\u001b[0;34m\u001b[0m\u001b[0m\n\u001b[0;32m----> 7\u001b[0;31m         \u001b[0mneighbor_heuristics\u001b[0m \u001b[0;34m=\u001b[0m \u001b[0;34m[\u001b[0m\u001b[0mheuristic_func\u001b[0m\u001b[0;34m(\u001b[0m\u001b[0mneighbor\u001b[0m\u001b[0;34m,\u001b[0m \u001b[0mgoal_state\u001b[0m\u001b[0;34m)\u001b[0m \u001b[0;32mfor\u001b[0m \u001b[0mneighbor\u001b[0m \u001b[0;32min\u001b[0m \u001b[0mneighbors\u001b[0m\u001b[0;34m]\u001b[0m\u001b[0;34m\u001b[0m\u001b[0;34m\u001b[0m\u001b[0m\n\u001b[0m\u001b[1;32m      8\u001b[0m         \u001b[0mbest_neighbor\u001b[0m \u001b[0;34m=\u001b[0m \u001b[0mneighbors\u001b[0m\u001b[0;34m[\u001b[0m\u001b[0mneighbor_heuristics\u001b[0m\u001b[0;34m.\u001b[0m\u001b[0mindex\u001b[0m\u001b[0;34m(\u001b[0m\u001b[0mmin\u001b[0m\u001b[0;34m(\u001b[0m\u001b[0mneighbor_heuristics\u001b[0m\u001b[0;34m)\u001b[0m\u001b[0;34m)\u001b[0m\u001b[0;34m]\u001b[0m\u001b[0;34m\u001b[0m\u001b[0;34m\u001b[0m\u001b[0m\n\u001b[1;32m      9\u001b[0m         \u001b[0;32mif\u001b[0m \u001b[0mheuristic_func\u001b[0m\u001b[0;34m(\u001b[0m\u001b[0mbest_neighbor\u001b[0m\u001b[0;34m,\u001b[0m \u001b[0mgoal_state\u001b[0m\u001b[0;34m)\u001b[0m \u001b[0;34m>=\u001b[0m \u001b[0mheuristic_func\u001b[0m\u001b[0;34m(\u001b[0m\u001b[0mcurrent_state\u001b[0m\u001b[0;34m,\u001b[0m \u001b[0mgoal_state\u001b[0m\u001b[0;34m)\u001b[0m\u001b[0;34m:\u001b[0m\u001b[0;34m\u001b[0m\u001b[0;34m\u001b[0m\u001b[0m\n",
      "\u001b[0;32m<ipython-input-11-035192487ce0>\u001b[0m in \u001b[0;36mheuristic2\u001b[0;34m(state, goal)\u001b[0m\n\u001b[1;32m      5\u001b[0m       \u001b[0mblock\u001b[0m \u001b[0;34m=\u001b[0m \u001b[0mstate\u001b[0m\u001b[0;34m[\u001b[0m\u001b[0mi\u001b[0m\u001b[0;34m]\u001b[0m\u001b[0;34m[\u001b[0m\u001b[0mj\u001b[0m\u001b[0;34m]\u001b[0m\u001b[0;34m\u001b[0m\u001b[0;34m\u001b[0m\u001b[0m\n\u001b[1;32m      6\u001b[0m       \u001b[0mgoal_i\u001b[0m\u001b[0;34m,\u001b[0m \u001b[0mgoal_j\u001b[0m \u001b[0;34m=\u001b[0m \u001b[0mfind_goal_position\u001b[0m\u001b[0;34m(\u001b[0m\u001b[0mblock\u001b[0m\u001b[0;34m,\u001b[0m \u001b[0mgoal\u001b[0m\u001b[0;34m)\u001b[0m\u001b[0;34m\u001b[0m\u001b[0;34m\u001b[0m\u001b[0m\n\u001b[0;32m----> 7\u001b[0;31m       \u001b[0mmanhattan_distance\u001b[0m \u001b[0;34m+=\u001b[0m \u001b[0mabs\u001b[0m\u001b[0;34m(\u001b[0m\u001b[0mi\u001b[0m \u001b[0;34m-\u001b[0m \u001b[0mgoal_i\u001b[0m\u001b[0;34m)\u001b[0m \u001b[0;34m+\u001b[0m \u001b[0mabs\u001b[0m\u001b[0;34m(\u001b[0m\u001b[0mj\u001b[0m \u001b[0;34m-\u001b[0m \u001b[0mgoal_j\u001b[0m\u001b[0;34m)\u001b[0m\u001b[0;34m\u001b[0m\u001b[0;34m\u001b[0m\u001b[0m\n\u001b[0m\u001b[1;32m      8\u001b[0m   \u001b[0;32mreturn\u001b[0m \u001b[0mmanhattan_distance\u001b[0m\u001b[0;34m\u001b[0m\u001b[0;34m\u001b[0m\u001b[0m\n\u001b[1;32m      9\u001b[0m \u001b[0;34m\u001b[0m\u001b[0m\n",
      "\u001b[0;31mTypeError\u001b[0m: unsupported operand type(s) for -: 'int' and 'NoneType'"
     ]
    }
   ],
   "source": [
    "initial_state = [['C', 'B', 'A'], []]\n",
    "goal_state = [['A', 'B', 'C'], []]\n",
    "\n",
    "print(\"Final state with heuristic1:\", hill_climbing(initial_state, goal_state, heuristic))\n",
    "print(\"Final state with heuristic2:\", hill_climbing(initial_state, goal_state, heuristic2))\n",
    "print(\"Final state with heuristic3:\", hill_climbing(initial_state, goal_state, heuristic3))\n",
    "print(\"Final state with heuristic4:\", hill_climbing(initial_state, goal_state, heuristic4))"
   ]
  },
  {
   "cell_type": "code",
   "execution_count": null,
   "metadata": {
    "id": "o2Bq5FPfw53-"
   },
   "outputs": [],
   "source": []
  }
 ],
 "metadata": {
  "colab": {
   "provenance": []
  },
  "kernelspec": {
   "display_name": "Python 3",
   "name": "python3"
  },
  "language_info": {
   "name": "python"
  }
 },
 "nbformat": 4,
 "nbformat_minor": 0
}
